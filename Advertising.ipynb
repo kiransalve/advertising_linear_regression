{
 "cells": [
  {
   "cell_type": "markdown",
   "id": "c22a1d2b-d823-4841-8a89-381783214639",
   "metadata": {},
   "source": [
    "### Predict Sales Based on Advertising Spend"
   ]
  },
  {
   "cell_type": "markdown",
   "id": "df516c3a-ea4a-43bd-a006-5bbf93d636bb",
   "metadata": {},
   "source": [
    "Scenario:\n",
    "You work for a small retail company. The manager gives you a dataset with TV, Radio, and Newspaper ad budgets, and wants to know:\n",
    "\n",
    "\"Can you build something simple that predicts how much sales we’ll make if we spend ₹X on TV, Radio, and Newspaper ads?\""
   ]
  },
  {
   "cell_type": "markdown",
   "id": "ce25c056-f9f7-48af-83cd-f3efccbeff4a",
   "metadata": {},
   "source": [
    "🎯 Our Goal:\n",
    "\n",
    "Build a basic machine learning model that predicts Sales based on TV, Radio, Newspaper ad spends."
   ]
  },
  {
   "cell_type": "code",
   "execution_count": 1,
   "id": "c9aa2182-6cea-434c-a6ce-7d3e22f84fbc",
   "metadata": {},
   "outputs": [],
   "source": [
    "# Step 1: Import Libraries"
   ]
  },
  {
   "cell_type": "code",
   "execution_count": 2,
   "id": "749e0d30-b5c7-4ae0-b1a2-27864f718371",
   "metadata": {},
   "outputs": [],
   "source": [
    "import pandas as pd\n",
    "import numpy as np\n",
    "import matplotlib.pyplot as plt\n",
    "import seaborn as sns\n",
    "from sklearn.linear_model import LinearRegression\n",
    "from sklearn.model_selection import train_test_split\n",
    "from sklearn.metrics import mean_squared_error, r2_score"
   ]
  },
  {
   "cell_type": "code",
   "execution_count": 3,
   "id": "f5d38136-7e0c-4fee-a4bc-abb095009c69",
   "metadata": {},
   "outputs": [],
   "source": [
    "# Step 2: Load Dataset"
   ]
  },
  {
   "cell_type": "code",
   "execution_count": 4,
   "id": "b1e0631b-4d04-42da-9ac5-09725acc2cfd",
   "metadata": {},
   "outputs": [],
   "source": [
    "df = pd.read_csv(\"Advertising.csv\")"
   ]
  },
  {
   "cell_type": "code",
   "execution_count": 5,
   "id": "7c280c52-868a-4f78-8f3f-1a9f40262ee7",
   "metadata": {},
   "outputs": [
    {
     "data": {
      "text/html": [
       "<div>\n",
       "<style scoped>\n",
       "    .dataframe tbody tr th:only-of-type {\n",
       "        vertical-align: middle;\n",
       "    }\n",
       "\n",
       "    .dataframe tbody tr th {\n",
       "        vertical-align: top;\n",
       "    }\n",
       "\n",
       "    .dataframe thead th {\n",
       "        text-align: right;\n",
       "    }\n",
       "</style>\n",
       "<table border=\"1\" class=\"dataframe\">\n",
       "  <thead>\n",
       "    <tr style=\"text-align: right;\">\n",
       "      <th></th>\n",
       "      <th>Unnamed: 0</th>\n",
       "      <th>TV</th>\n",
       "      <th>Radio</th>\n",
       "      <th>Newspaper</th>\n",
       "      <th>Sales</th>\n",
       "    </tr>\n",
       "  </thead>\n",
       "  <tbody>\n",
       "    <tr>\n",
       "      <th>0</th>\n",
       "      <td>1</td>\n",
       "      <td>230.1</td>\n",
       "      <td>37.8</td>\n",
       "      <td>69.2</td>\n",
       "      <td>22.1</td>\n",
       "    </tr>\n",
       "    <tr>\n",
       "      <th>1</th>\n",
       "      <td>2</td>\n",
       "      <td>44.5</td>\n",
       "      <td>39.3</td>\n",
       "      <td>45.1</td>\n",
       "      <td>10.4</td>\n",
       "    </tr>\n",
       "    <tr>\n",
       "      <th>2</th>\n",
       "      <td>3</td>\n",
       "      <td>17.2</td>\n",
       "      <td>45.9</td>\n",
       "      <td>69.3</td>\n",
       "      <td>9.3</td>\n",
       "    </tr>\n",
       "    <tr>\n",
       "      <th>3</th>\n",
       "      <td>4</td>\n",
       "      <td>151.5</td>\n",
       "      <td>41.3</td>\n",
       "      <td>58.5</td>\n",
       "      <td>18.5</td>\n",
       "    </tr>\n",
       "    <tr>\n",
       "      <th>4</th>\n",
       "      <td>5</td>\n",
       "      <td>180.8</td>\n",
       "      <td>10.8</td>\n",
       "      <td>58.4</td>\n",
       "      <td>12.9</td>\n",
       "    </tr>\n",
       "  </tbody>\n",
       "</table>\n",
       "</div>"
      ],
      "text/plain": [
       "   Unnamed: 0     TV  Radio  Newspaper  Sales\n",
       "0           1  230.1   37.8       69.2   22.1\n",
       "1           2   44.5   39.3       45.1   10.4\n",
       "2           3   17.2   45.9       69.3    9.3\n",
       "3           4  151.5   41.3       58.5   18.5\n",
       "4           5  180.8   10.8       58.4   12.9"
      ]
     },
     "execution_count": 5,
     "metadata": {},
     "output_type": "execute_result"
    }
   ],
   "source": [
    "df.head()"
   ]
  },
  {
   "cell_type": "code",
   "execution_count": 6,
   "id": "e4ce242f-538c-4411-8b7c-f399a41f32d7",
   "metadata": {},
   "outputs": [],
   "source": [
    "# delete index column - Unnamed: 0"
   ]
  },
  {
   "cell_type": "code",
   "execution_count": 7,
   "id": "2194864f-337a-4312-9dde-64bd0ae60f6e",
   "metadata": {},
   "outputs": [],
   "source": [
    "df = df.drop(columns=[\"Unnamed: 0\"])"
   ]
  },
  {
   "cell_type": "code",
   "execution_count": 8,
   "id": "f0b6033e-aae5-4999-8acb-3af94054faf4",
   "metadata": {},
   "outputs": [
    {
     "data": {
      "text/html": [
       "<div>\n",
       "<style scoped>\n",
       "    .dataframe tbody tr th:only-of-type {\n",
       "        vertical-align: middle;\n",
       "    }\n",
       "\n",
       "    .dataframe tbody tr th {\n",
       "        vertical-align: top;\n",
       "    }\n",
       "\n",
       "    .dataframe thead th {\n",
       "        text-align: right;\n",
       "    }\n",
       "</style>\n",
       "<table border=\"1\" class=\"dataframe\">\n",
       "  <thead>\n",
       "    <tr style=\"text-align: right;\">\n",
       "      <th></th>\n",
       "      <th>TV</th>\n",
       "      <th>Radio</th>\n",
       "      <th>Newspaper</th>\n",
       "      <th>Sales</th>\n",
       "    </tr>\n",
       "  </thead>\n",
       "  <tbody>\n",
       "    <tr>\n",
       "      <th>0</th>\n",
       "      <td>230.1</td>\n",
       "      <td>37.8</td>\n",
       "      <td>69.2</td>\n",
       "      <td>22.1</td>\n",
       "    </tr>\n",
       "  </tbody>\n",
       "</table>\n",
       "</div>"
      ],
      "text/plain": [
       "      TV  Radio  Newspaper  Sales\n",
       "0  230.1   37.8       69.2   22.1"
      ]
     },
     "execution_count": 8,
     "metadata": {},
     "output_type": "execute_result"
    }
   ],
   "source": [
    "df.head(1)"
   ]
  },
  {
   "cell_type": "code",
   "execution_count": 9,
   "id": "ab2c6d20-c903-4d83-81b0-30f44b875dc4",
   "metadata": {},
   "outputs": [],
   "source": [
    "# Step 3: Explore Dataset"
   ]
  },
  {
   "cell_type": "code",
   "execution_count": 10,
   "id": "8d28ea33-d101-4d26-abd8-050fc67d3dc8",
   "metadata": {},
   "outputs": [
    {
     "name": "stdout",
     "output_type": "stream",
     "text": [
      "<class 'pandas.core.frame.DataFrame'>\n",
      "RangeIndex: 200 entries, 0 to 199\n",
      "Data columns (total 4 columns):\n",
      " #   Column     Non-Null Count  Dtype  \n",
      "---  ------     --------------  -----  \n",
      " 0   TV         200 non-null    float64\n",
      " 1   Radio      200 non-null    float64\n",
      " 2   Newspaper  200 non-null    float64\n",
      " 3   Sales      200 non-null    float64\n",
      "dtypes: float64(4)\n",
      "memory usage: 6.4 KB\n"
     ]
    }
   ],
   "source": [
    "df.info()"
   ]
  },
  {
   "cell_type": "markdown",
   "id": "c51f1eb5-569d-41b3-9797-d8c456b84f1b",
   "metadata": {},
   "source": [
    "Our data has 200 rows and 4 columns, all are float data type"
   ]
  },
  {
   "cell_type": "code",
   "execution_count": 11,
   "id": "91782a29-d906-438a-bc8d-b311fe3ce771",
   "metadata": {},
   "outputs": [
    {
     "data": {
      "text/html": [
       "<div>\n",
       "<style scoped>\n",
       "    .dataframe tbody tr th:only-of-type {\n",
       "        vertical-align: middle;\n",
       "    }\n",
       "\n",
       "    .dataframe tbody tr th {\n",
       "        vertical-align: top;\n",
       "    }\n",
       "\n",
       "    .dataframe thead th {\n",
       "        text-align: right;\n",
       "    }\n",
       "</style>\n",
       "<table border=\"1\" class=\"dataframe\">\n",
       "  <thead>\n",
       "    <tr style=\"text-align: right;\">\n",
       "      <th></th>\n",
       "      <th>TV</th>\n",
       "      <th>Radio</th>\n",
       "      <th>Newspaper</th>\n",
       "      <th>Sales</th>\n",
       "    </tr>\n",
       "  </thead>\n",
       "  <tbody>\n",
       "    <tr>\n",
       "      <th>count</th>\n",
       "      <td>200.00</td>\n",
       "      <td>200.00</td>\n",
       "      <td>200.00</td>\n",
       "      <td>200.00</td>\n",
       "    </tr>\n",
       "    <tr>\n",
       "      <th>mean</th>\n",
       "      <td>147.04</td>\n",
       "      <td>23.26</td>\n",
       "      <td>30.55</td>\n",
       "      <td>14.02</td>\n",
       "    </tr>\n",
       "    <tr>\n",
       "      <th>std</th>\n",
       "      <td>85.85</td>\n",
       "      <td>14.85</td>\n",
       "      <td>21.78</td>\n",
       "      <td>5.22</td>\n",
       "    </tr>\n",
       "    <tr>\n",
       "      <th>min</th>\n",
       "      <td>0.70</td>\n",
       "      <td>0.00</td>\n",
       "      <td>0.30</td>\n",
       "      <td>1.60</td>\n",
       "    </tr>\n",
       "    <tr>\n",
       "      <th>25%</th>\n",
       "      <td>74.38</td>\n",
       "      <td>9.98</td>\n",
       "      <td>12.75</td>\n",
       "      <td>10.38</td>\n",
       "    </tr>\n",
       "    <tr>\n",
       "      <th>50%</th>\n",
       "      <td>149.75</td>\n",
       "      <td>22.90</td>\n",
       "      <td>25.75</td>\n",
       "      <td>12.90</td>\n",
       "    </tr>\n",
       "    <tr>\n",
       "      <th>75%</th>\n",
       "      <td>218.82</td>\n",
       "      <td>36.52</td>\n",
       "      <td>45.10</td>\n",
       "      <td>17.40</td>\n",
       "    </tr>\n",
       "    <tr>\n",
       "      <th>max</th>\n",
       "      <td>296.40</td>\n",
       "      <td>49.60</td>\n",
       "      <td>114.00</td>\n",
       "      <td>27.00</td>\n",
       "    </tr>\n",
       "  </tbody>\n",
       "</table>\n",
       "</div>"
      ],
      "text/plain": [
       "           TV   Radio  Newspaper   Sales\n",
       "count  200.00  200.00     200.00  200.00\n",
       "mean   147.04   23.26      30.55   14.02\n",
       "std     85.85   14.85      21.78    5.22\n",
       "min      0.70    0.00       0.30    1.60\n",
       "25%     74.38    9.98      12.75   10.38\n",
       "50%    149.75   22.90      25.75   12.90\n",
       "75%    218.82   36.52      45.10   17.40\n",
       "max    296.40   49.60     114.00   27.00"
      ]
     },
     "execution_count": 11,
     "metadata": {},
     "output_type": "execute_result"
    }
   ],
   "source": [
    "df.describe().round(2)"
   ]
  },
  {
   "cell_type": "markdown",
   "id": "873451d7-1147-43ba-8148-2978912a1b22",
   "metadata": {},
   "source": [
    "1. Check for Missing Data\n",
    "\n",
    "    Look at the count row:\n",
    "\n",
    "    Is count same for all columns?\n",
    "\n",
    "    If not, there are missing values you need to handle.\n",
    "\n",
    "    if count < total rows, use: df.isnull().sum()\n",
    "\n",
    "    Observation : all columns have 200 rows, so no missing data\n"
   ]
  },
  {
   "cell_type": "code",
   "execution_count": 12,
   "id": "0564685d-ff48-4554-9d92-e9d490dbd911",
   "metadata": {},
   "outputs": [
    {
     "data": {
      "text/plain": [
       "TV           0\n",
       "Radio        0\n",
       "Newspaper    0\n",
       "Sales        0\n",
       "dtype: int64"
      ]
     },
     "execution_count": 12,
     "metadata": {},
     "output_type": "execute_result"
    }
   ],
   "source": [
    "df.isnull().sum()"
   ]
  },
  {
   "cell_type": "markdown",
   "id": "88b2330c-14c6-4e40-94a3-3fa009737854",
   "metadata": {},
   "source": [
    "2. Understand the Data Range\n",
    "\n",
    "   For each column:\n",
    "\n",
    "   What is the min, max, and range (max - min)?\n",
    "\n",
    "   Are the values in expected limits?\n",
    "\n",
    "   Large ranges may need scaling (normalization/standardization).\n",
    "\n",
    "   Observation : "
   ]
  },
  {
   "cell_type": "code",
   "execution_count": 45,
   "id": "43d335db-e1be-4d3b-9200-f300d1cb4284",
   "metadata": {},
   "outputs": [
    {
     "data": {
      "text/html": [
       "<div>\n",
       "<style scoped>\n",
       "    .dataframe tbody tr th:only-of-type {\n",
       "        vertical-align: middle;\n",
       "    }\n",
       "\n",
       "    .dataframe tbody tr th {\n",
       "        vertical-align: top;\n",
       "    }\n",
       "\n",
       "    .dataframe thead th {\n",
       "        text-align: right;\n",
       "    }\n",
       "</style>\n",
       "<table border=\"1\" class=\"dataframe\">\n",
       "  <thead>\n",
       "    <tr style=\"text-align: right;\">\n",
       "      <th></th>\n",
       "      <th>Column</th>\n",
       "      <th>Min</th>\n",
       "      <th>Max</th>\n",
       "      <th>Range</th>\n",
       "    </tr>\n",
       "  </thead>\n",
       "  <tbody>\n",
       "    <tr>\n",
       "      <th>0</th>\n",
       "      <td>TV</td>\n",
       "      <td>0.7</td>\n",
       "      <td>296.4</td>\n",
       "      <td>295.7</td>\n",
       "    </tr>\n",
       "    <tr>\n",
       "      <th>1</th>\n",
       "      <td>Radio</td>\n",
       "      <td>0.0</td>\n",
       "      <td>49.6</td>\n",
       "      <td>49.6</td>\n",
       "    </tr>\n",
       "    <tr>\n",
       "      <th>2</th>\n",
       "      <td>Newspaper</td>\n",
       "      <td>0.3</td>\n",
       "      <td>114.0</td>\n",
       "      <td>113.7</td>\n",
       "    </tr>\n",
       "    <tr>\n",
       "      <th>3</th>\n",
       "      <td>Sales</td>\n",
       "      <td>1.6</td>\n",
       "      <td>27.0</td>\n",
       "      <td>25.4</td>\n",
       "    </tr>\n",
       "  </tbody>\n",
       "</table>\n",
       "</div>"
      ],
      "text/plain": [
       "      Column  Min    Max  Range\n",
       "0         TV  0.7  296.4  295.7\n",
       "1      Radio  0.0   49.6   49.6\n",
       "2  Newspaper  0.3  114.0  113.7\n",
       "3      Sales  1.6   27.0   25.4"
      ]
     },
     "execution_count": 45,
     "metadata": {},
     "output_type": "execute_result"
    }
   ],
   "source": [
    "min = []\n",
    "max = []\n",
    "range = []\n",
    "\n",
    "for col in df.columns:\n",
    "    _min = df[col].min()\n",
    "    _max = df[col].max()\n",
    "    \n",
    "    min.append(_min)\n",
    "    max.append(_max)  \n",
    "\n",
    "    _range = _max - _min\n",
    "    range.append(_range)\n",
    "summary = pd.DataFrame({\n",
    "        \"Column\":df.columns,\n",
    "        \"Min\":min,\n",
    "        \"Max\":max,\n",
    "        \"Range\":range,\n",
    "})\n",
    "summary"
   ]
  },
  {
   "cell_type": "markdown",
   "id": "6eb4a3fa-453a-49da-95d3-e5b35d1920a2",
   "metadata": {},
   "source": [
    " 3. Measure the Spread (std)\n",
    "\n",
    "    std tells how spread out the values are.\n",
    "\n",
    "    High std → wide variation → possibly skewed or unstable data.\n",
    "\n",
    "    Compare std to mean: std / mean gives coefficient of variation."
   ]
  },
  {
   "cell_type": "code",
   "execution_count": 44,
   "id": "34e17f83-574b-45b2-960f-687e8af8860e",
   "metadata": {},
   "outputs": [
    {
     "data": {
      "text/html": [
       "<div>\n",
       "<style scoped>\n",
       "    .dataframe tbody tr th:only-of-type {\n",
       "        vertical-align: middle;\n",
       "    }\n",
       "\n",
       "    .dataframe tbody tr th {\n",
       "        vertical-align: top;\n",
       "    }\n",
       "\n",
       "    .dataframe thead th {\n",
       "        text-align: right;\n",
       "    }\n",
       "</style>\n",
       "<table border=\"1\" class=\"dataframe\">\n",
       "  <thead>\n",
       "    <tr style=\"text-align: right;\">\n",
       "      <th></th>\n",
       "      <th>Column</th>\n",
       "      <th>Std</th>\n",
       "      <th>Mean</th>\n",
       "      <th>Variablity</th>\n",
       "    </tr>\n",
       "  </thead>\n",
       "  <tbody>\n",
       "    <tr>\n",
       "      <th>0</th>\n",
       "      <td>TV</td>\n",
       "      <td>85.64</td>\n",
       "      <td>147.04</td>\n",
       "      <td>58.24%</td>\n",
       "    </tr>\n",
       "    <tr>\n",
       "      <th>1</th>\n",
       "      <td>Radio</td>\n",
       "      <td>14.81</td>\n",
       "      <td>23.26</td>\n",
       "      <td>63.67%</td>\n",
       "    </tr>\n",
       "    <tr>\n",
       "      <th>2</th>\n",
       "      <td>Newspaper</td>\n",
       "      <td>21.72</td>\n",
       "      <td>30.55</td>\n",
       "      <td>71.10%</td>\n",
       "    </tr>\n",
       "    <tr>\n",
       "      <th>3</th>\n",
       "      <td>Sales</td>\n",
       "      <td>5.20</td>\n",
       "      <td>14.02</td>\n",
       "      <td>37.09%</td>\n",
       "    </tr>\n",
       "  </tbody>\n",
       "</table>\n",
       "</div>"
      ],
      "text/plain": [
       "      Column    Std    Mean Variablity\n",
       "0         TV  85.64  147.04     58.24%\n",
       "1      Radio  14.81   23.26     63.67%\n",
       "2  Newspaper  21.72   30.55     71.10%\n",
       "3      Sales   5.20   14.02     37.09%"
      ]
     },
     "execution_count": 44,
     "metadata": {},
     "output_type": "execute_result"
    }
   ],
   "source": [
    "_std = []\n",
    "_mean = []\n",
    "_variablity = []\n",
    "\n",
    "for col in df.columns:\n",
    "    std = np.std(df[col]).round(2)\n",
    "    mean = np.mean(df[col]).round(2)\n",
    "    variability = f\"{(std / mean * 100):.2f}%\"\n",
    "    \n",
    "    _std.append(std)\n",
    "    _mean.append(mean)\n",
    "    _variablity.append(variability)\n",
    "\n",
    "summary = pd.DataFrame({\n",
    "    \"Column\" : df.columns,\n",
    "    \"Std\" : _std,\n",
    "    \"Mean\" : _mean,\n",
    "    \"Variablity\" : _variablity\n",
    "})\n",
    "summary"
   ]
  },
  {
   "cell_type": "markdown",
   "id": "112447f2-5f3a-4272-a0e4-98ddf17e0c79",
   "metadata": {},
   "source": [
    "TV has less, radio have moderate and Newspaper have higher variablity \n",
    "\n",
    "Variablity means inconsistant pattern, so more unpredictable"
   ]
  },
  {
   "cell_type": "markdown",
   "id": "21ba6c2b-6292-45ac-816a-f3f016a88230",
   "metadata": {},
   "source": [
    "4. Identify Skewness\n",
    "  \n",
    "  Compare mean and median (50%):\n",
    "\n",
    "  mean > median → right-skewed\n",
    "\n",
    "  mean < median → left-skewed\n",
    "\n",
    "  mean ≈ median → symmetric"
   ]
  },
  {
   "cell_type": "code",
   "execution_count": 57,
   "id": "651cf8f5-4344-4b77-b199-038b53b7b496",
   "metadata": {},
   "outputs": [
    {
     "data": {
      "text/html": [
       "<div>\n",
       "<style scoped>\n",
       "    .dataframe tbody tr th:only-of-type {\n",
       "        vertical-align: middle;\n",
       "    }\n",
       "\n",
       "    .dataframe tbody tr th {\n",
       "        vertical-align: top;\n",
       "    }\n",
       "\n",
       "    .dataframe thead th {\n",
       "        text-align: right;\n",
       "    }\n",
       "</style>\n",
       "<table border=\"1\" class=\"dataframe\">\n",
       "  <thead>\n",
       "    <tr style=\"text-align: right;\">\n",
       "      <th></th>\n",
       "      <th>Columns</th>\n",
       "      <th>Mean</th>\n",
       "      <th>Median</th>\n",
       "      <th>Difference</th>\n",
       "      <th>Observation</th>\n",
       "    </tr>\n",
       "  </thead>\n",
       "  <tbody>\n",
       "    <tr>\n",
       "      <th>0</th>\n",
       "      <td>TV</td>\n",
       "      <td>147.0425</td>\n",
       "      <td>149.75</td>\n",
       "      <td>-2.7075</td>\n",
       "      <td>Approximately Symmetric</td>\n",
       "    </tr>\n",
       "    <tr>\n",
       "      <th>1</th>\n",
       "      <td>Radio</td>\n",
       "      <td>23.2640</td>\n",
       "      <td>22.90</td>\n",
       "      <td>0.3640</td>\n",
       "      <td>Approximately Symmetric</td>\n",
       "    </tr>\n",
       "    <tr>\n",
       "      <th>2</th>\n",
       "      <td>Newspaper</td>\n",
       "      <td>30.5540</td>\n",
       "      <td>25.75</td>\n",
       "      <td>4.8040</td>\n",
       "      <td>Right Skewed</td>\n",
       "    </tr>\n",
       "    <tr>\n",
       "      <th>3</th>\n",
       "      <td>Sales</td>\n",
       "      <td>14.0225</td>\n",
       "      <td>12.90</td>\n",
       "      <td>1.1225</td>\n",
       "      <td>Right Skewed</td>\n",
       "    </tr>\n",
       "  </tbody>\n",
       "</table>\n",
       "</div>"
      ],
      "text/plain": [
       "     Columns      Mean  Median  Difference              Observation\n",
       "0         TV  147.0425  149.75     -2.7075  Approximately Symmetric\n",
       "1      Radio   23.2640   22.90      0.3640  Approximately Symmetric\n",
       "2  Newspaper   30.5540   25.75      4.8040             Right Skewed\n",
       "3      Sales   14.0225   12.90      1.1225             Right Skewed"
      ]
     },
     "execution_count": 57,
     "metadata": {},
     "output_type": "execute_result"
    }
   ],
   "source": [
    "mean = []\n",
    "median = []\n",
    "obs = []\n",
    "dif = []\n",
    "\n",
    "for col in df.columns:\n",
    "    _mean = df[col].mean()\n",
    "    _median = df[col].median()\n",
    "    _dif = _mean - _median\n",
    "    \n",
    "    mean.append(_mean)\n",
    "    median.append(_median)\n",
    "    dif.append(_dif)\n",
    "    threshold = 0.05 * _mean\n",
    "    \n",
    "    if (_mean - _median) <= threshold:\n",
    "        obs.append(\"Approximately Symmetric\")\n",
    "    elif _mean > _median:\n",
    "        obs.append(\"Right Skewed\")\n",
    "    else:\n",
    "        obs.append(\"Left Skewed\")\n",
    "\n",
    "summary = pd.DataFrame({\n",
    "    \"Columns\":df.columns,\n",
    "    \"Mean\": mean,\n",
    "    \"Median\" : median,\n",
    "    \"Difference\" : dif,\n",
    "    \"Observation\": obs\n",
    "})\n",
    "summary"
   ]
  },
  {
   "cell_type": "markdown",
   "id": "0082bc69-a16f-4aee-88cf-e0cf29394ae4",
   "metadata": {},
   "source": [
    " 5. Find Outliers\n",
    "\n",
    "    Compare:\n",
    "\n",
    "    min vs 25% and max vs 75%\n",
    "    \n",
    "    If values are far outside the interquartile range (IQR), they might be outliers\n",
    "    \n",
    "    IQR = 75% - 25%\n",
    "\n",
    "    lower_bound = Q1 - 1.5 * IQR\n",
    "\n",
    "    upper_bound = Q3 + 1.5 * IQR\n"
   ]
  },
  {
   "cell_type": "code",
   "execution_count": 70,
   "id": "8f244ca2-3134-487e-9551-aa08eadeb619",
   "metadata": {},
   "outputs": [
    {
     "data": {
      "text/html": [
       "<div>\n",
       "<style scoped>\n",
       "    .dataframe tbody tr th:only-of-type {\n",
       "        vertical-align: middle;\n",
       "    }\n",
       "\n",
       "    .dataframe tbody tr th {\n",
       "        vertical-align: top;\n",
       "    }\n",
       "\n",
       "    .dataframe thead th {\n",
       "        text-align: right;\n",
       "    }\n",
       "</style>\n",
       "<table border=\"1\" class=\"dataframe\">\n",
       "  <thead>\n",
       "    <tr style=\"text-align: right;\">\n",
       "      <th></th>\n",
       "      <th>TV</th>\n",
       "      <th>Radio</th>\n",
       "      <th>Newspaper</th>\n",
       "      <th>Sales</th>\n",
       "    </tr>\n",
       "  </thead>\n",
       "  <tbody>\n",
       "    <tr>\n",
       "      <th>16</th>\n",
       "      <td>67.8</td>\n",
       "      <td>36.6</td>\n",
       "      <td>114.0</td>\n",
       "      <td>12.5</td>\n",
       "    </tr>\n",
       "    <tr>\n",
       "      <th>101</th>\n",
       "      <td>296.4</td>\n",
       "      <td>36.3</td>\n",
       "      <td>100.9</td>\n",
       "      <td>23.8</td>\n",
       "    </tr>\n",
       "  </tbody>\n",
       "</table>\n",
       "</div>"
      ],
      "text/plain": [
       "        TV  Radio  Newspaper  Sales\n",
       "16    67.8   36.6      114.0   12.5\n",
       "101  296.4   36.3      100.9   23.8"
      ]
     },
     "execution_count": 70,
     "metadata": {},
     "output_type": "execute_result"
    }
   ],
   "source": [
    "# Step 1: Calculate Q1 and Q3\n",
    "q1 = df.quantile(0.25)\n",
    "q3 = df.quantile(0.75)\n",
    "\n",
    "# Step 2: Calculate IQR\n",
    "iqr = q3 - q1\n",
    "\n",
    "# Step 3: Calculate bounds\n",
    "lower = q1 - 1.5 * iqr\n",
    "upper = q3 + 1.5 * iqr\n",
    "\n",
    "outliers = pd.DataFrame()\n",
    "\n",
    "for col in df.columns:\n",
    "    outliers_in_col = df[(df[col] < lower[col]) | (df[col] > upper[col])]\n",
    "    outliers = pd.concat([outliers, outliers_in_col])\n",
    "\n",
    "# Drop duplicate rows (if a row is outlier in multiple columns)\n",
    "outliers = outliers.drop_duplicates()\n",
    "\n",
    "outliers\n"
   ]
  },
  {
   "cell_type": "markdown",
   "id": "490017da-d70c-4617-a6c1-1d87b3f219c6",
   "metadata": {},
   "source": [
    "We found these outlier in our data"
   ]
  },
  {
   "cell_type": "markdown",
   "id": "e320deb9-3820-4676-beb0-039ba5b8c222",
   "metadata": {},
   "source": [
    "| Pattern                               | Meaning                            |\n",
    "| ------------------------------------- | ---------------------------------- |\n",
    "| High sales + Low spend                | 🟢 Efficient strategy              |\n",
    "| High spend + Low sales                | 🔴 Wasteful campaign               |\n",
    "| Consistent spend + unstable sales     | ⚠️ External market factors         |\n",
    "| Inconsistent spend + consistent sales | 🟢 Market pull or product strength |\n"
   ]
  },
  {
   "cell_type": "code",
   "execution_count": 75,
   "id": "5e0372df-ea8f-4def-a19c-b66dd0feb855",
   "metadata": {},
   "outputs": [],
   "source": [
    "# Step 4: Visualize Relationships"
   ]
  },
  {
   "cell_type": "code",
   "execution_count": 82,
   "id": "0d8d3a6c-ff45-42bf-8a21-5fae26f874dc",
   "metadata": {},
   "outputs": [
    {
     "data": {
      "image/png": "[encoded data removed]",
      "text/plain": [
       "<Figure size 640x480 with 1 Axes>"
      ]
     },
     "metadata": {},
     "output_type": "display_data"
    }
   ],
   "source": [
    "plt.scatter(df[\"TV\"], df[\"Sales\"], color=\"blue\")\n",
    "plt.title(\"TV Spent vs Sales\")\n",
    "plt.xlabel(\"TV Spents in Rs. Thousands\")\n",
    "plt.ylabel(\"Sales in Lakhs\")\n",
    "plt.show()"
   ]
  },
  {
   "cell_type": "markdown",
   "id": "a63dd7dd-a663-4e7d-af85-fdf3225eafa8",
   "metadata": {},
   "source": [
    "TV spend is high and correlates with sales\n",
    "→ TV is effective; it drives results."
   ]
  },
  {
   "cell_type": "code",
   "execution_count": 83,
   "id": "81e956fe-8605-4fb0-8ab0-0ea35389ab41",
   "metadata": {},
   "outputs": [
    {
     "data": {
      "image/png": "[encoded data removed]",
      "text/plain": [
       "<Figure size 640x480 with 1 Axes>"
      ]
     },
     "metadata": {},
     "output_type": "display_data"
    }
   ],
   "source": [
    "plt.scatter(df[\"Radio\"], df[\"Sales\"], color=\"orange\")\n",
    "plt.title(\"Radio spent vs Sales\")\n",
    "plt.xlabel(\"Radio Spent in Rs. Thousands\")\n",
    "plt.ylabel(\"Sales in Rs. Lakhs\")\n",
    "plt.show()"
   ]
  },
  {
   "cell_type": "markdown",
   "id": "4e485008-a05e-484e-8f23-5925e1ba2be8",
   "metadata": {},
   "source": [
    "Some outliers are here, we spent 40-50 Thousands and sales is very low"
   ]
  },
  {
   "cell_type": "code",
   "execution_count": 95,
   "id": "ce9d1088-a4e3-4ffa-9b35-e2415bff64c5",
   "metadata": {},
   "outputs": [
    {
     "data": {
      "text/plain": [
       "<Axes: ylabel='Radio'>"
      ]
     },
     "execution_count": 95,
     "metadata": {},
     "output_type": "execute_result"
    },
    {
     "data": {
      "image/png": "[encoded data removed]",
      "text/plain": [
       "<Figure size 640x480 with 1 Axes>"
      ]
     },
     "metadata": {},
     "output_type": "display_data"
    }
   ],
   "source": [
    "sns.boxplot(df[\"Radio\"])"
   ]
  },
  {
   "cell_type": "code",
   "execution_count": 85,
   "id": "9f6dc50f-1e43-4220-a28b-b6c206755f60",
   "metadata": {},
   "outputs": [
    {
     "data": {
      "image/png": "[encoded data removed]",
      "text/plain": [
       "<Figure size 640x480 with 1 Axes>"
      ]
     },
     "metadata": {},
     "output_type": "display_data"
    }
   ],
   "source": [
    "plt.scatter(df[\"Newspaper\"], df[\"Sales\"], color=\"green\")\n",
    "plt.title(\"Newspaper Spent vs Sales\")\n",
    "plt.xlabel(\"Newspaper Spent in Rs. Thousands\")\n",
    "plt.ylabel(\"Sales in Rs. Lakhs\")\n",
    "plt.show()"
   ]
  },
  {
   "cell_type": "markdown",
   "id": "8f8a3a35-2104-4398-af48-a9075aaaf408",
   "metadata": {},
   "source": [
    "Less spent, high sales high spent low , no clear pattern"
   ]
  },
  {
   "cell_type": "code",
   "execution_count": 96,
   "id": "32c37156-6eff-41b1-b1fe-c7afa056fb8d",
   "metadata": {},
   "outputs": [
    {
     "data": {
      "text/plain": [
       "<Axes: ylabel='Newspaper'>"
      ]
     },
     "execution_count": 96,
     "metadata": {},
     "output_type": "execute_result"
    },
    {
     "data": {
      "image/png": "[encoded data removed]",
      "text/plain": [
       "<Figure size 640x480 with 1 Axes>"
      ]
     },
     "metadata": {},
     "output_type": "display_data"
    }
   ],
   "source": [
    "sns.boxplot(df[\"Newspaper\"])"
   ]
  },
  {
   "cell_type": "code",
   "execution_count": 98,
   "id": "2c67a832-a2a3-4214-9b1d-53809d10a6c2",
   "metadata": {},
   "outputs": [],
   "source": [
    "q1 = df[\"Newspaper\"].quantile(0.25)\n",
    "q3 = df[\"Newspaper\"].quantile(0.75)\n",
    "\n",
    "iqr = q3 - q1\n",
    "\n",
    "lower = q1 - 1.5 * iqr\n",
    "upper = q3 + 1.5 * iqr\n",
    "mean = df[\"Newspaper\"].mean()\n",
    "df[\"Newspaper\"] = df[\"Newspaper\"].apply(lambda x: mean if x < lower or x > upper else x) "
   ]
  },
  {
   "cell_type": "code",
   "execution_count": 99,
   "id": "315caf15-d7c2-4550-ac35-83ebeeb9b15a",
   "metadata": {},
   "outputs": [
    {
     "data": {
      "text/plain": [
       "<Axes: ylabel='Newspaper'>"
      ]
     },
     "execution_count": 99,
     "metadata": {},
     "output_type": "execute_result"
    },
    {
     "data": {
      "image/png": "[encoded data removed]",
      "text/plain": [
       "<Figure size 640x480 with 1 Axes>"
      ]
     },
     "metadata": {},
     "output_type": "display_data"
    }
   ],
   "source": [
    "sns.boxplot(df[\"Newspaper\"])"
   ]
  },
  {
   "cell_type": "code",
   "execution_count": 101,
   "id": "86a20d18-d48f-40c3-9e7b-95576a8c35d9",
   "metadata": {},
   "outputs": [
    {
     "data": {
      "text/plain": [
       "<matplotlib.collections.PathCollection at 0x2a7180f35c0>"
      ]
     },
     "execution_count": 101,
     "metadata": {},
     "output_type": "execute_result"
    },
    {
     "data": {
      "image/png": "[encoded data removed]",
      "text/plain": [
       "<Figure size 640x480 with 1 Axes>"
      ]
     },
     "metadata": {},
     "output_type": "display_data"
    }
   ],
   "source": [
    "plt.scatter(df[\"Newspaper\"], df[\"Sales\"], color=\"green\")"
   ]
  },
  {
   "cell_type": "code",
   "execution_count": 102,
   "id": "7291c525-e1e4-457f-9a1f-775eacfc63eb",
   "metadata": {},
   "outputs": [],
   "source": [
    "# Step 5: Train Model"
   ]
  },
  {
   "cell_type": "code",
   "execution_count": 104,
   "id": "00063ed0-fd41-4322-a24a-7b7471c61a59",
   "metadata": {},
   "outputs": [],
   "source": [
    "X = df[[\"TV\", \"Radio\",\"Newspaper\"]] \n",
    "y = df[\"Sales\"]"
   ]
  },
  {
   "cell_type": "code",
   "execution_count": 105,
   "id": "00a917f6-1ce0-438e-8b95-ce9ba253e220",
   "metadata": {},
   "outputs": [],
   "source": [
    "X_train, X_test, y_train, y_test = train_test_split(X, y, test_size = 0.2, random_state = 42)"
   ]
  },
  {
   "cell_type": "code",
   "execution_count": 106,
   "id": "74a0bf71-2455-4e78-a447-65354d997c9d",
   "metadata": {},
   "outputs": [
    {
     "data": {
      "text/html": [
       "<style>#sk-container-id-1 {\n",
       "  /* Definition of color scheme common for light and dark mode */\n",
       "  --sklearn-color-text: black;\n",
       "  --sklearn-color-line: gray;\n",
       "  /* Definition of color scheme for unfitted estimators */\n",
       "  --sklearn-color-unfitted-level-0: #fff5e6;\n",
       "  --sklearn-color-unfitted-level-1: #f6e4d2;\n",
       "  --sklearn-color-unfitted-level-2: #ffe0b3;\n",
       "  --sklearn-color-unfitted-level-3: chocolate;\n",
       "  /* Definition of color scheme for fitted estimators */\n",
       "  --sklearn-color-fitted-level-0: #f0f8ff;\n",
       "  --sklearn-color-fitted-level-1: #d4ebff;\n",
       "  --sklearn-color-fitted-level-2: #b3dbfd;\n",
       "  --sklearn-color-fitted-level-3: cornflowerblue;\n",
       "\n",
       "  /* Specific color for light theme */\n",
       "  --sklearn-color-text-on-default-background: var(--sg-text-color, var(--theme-code-foreground, var(--jp-content-font-color1, black)));\n",
       "  --sklearn-color-background: var(--sg-background-color, var(--theme-background, var(--jp-layout-color0, white)));\n",
       "  --sklearn-color-border-box: var(--sg-text-color, var(--theme-code-foreground, var(--jp-content-font-color1, black)));\n",
       "  --sklearn-color-icon: #696969;\n",
       "\n",
       "  @media (prefers-color-scheme: dark) {\n",
       "    /* Redefinition of color scheme for dark theme */\n",
       "    --sklearn-color-text-on-default-background: var(--sg-text-color, var(--theme-code-foreground, var(--jp-content-font-color1, white)));\n",
       "    --sklearn-color-background: var(--sg-background-color, var(--theme-background, var(--jp-layout-color0, #111)));\n",
       "    --sklearn-color-border-box: var(--sg-text-color, var(--theme-code-foreground, var(--jp-content-font-color1, white)));\n",
       "    --sklearn-color-icon: #878787;\n",
       "  }\n",
       "}\n",
       "\n",
       "#sk-container-id-1 {\n",
       "  color: var(--sklearn-color-text);\n",
       "}\n",
       "\n",
       "#sk-container-id-1 pre {\n",
       "  padding: 0;\n",
       "}\n",
       "\n",
       "#sk-container-id-1 input.sk-hidden--visually {\n",
       "  border: 0;\n",
       "  clip: rect(1px 1px 1px 1px);\n",
       "  clip: rect(1px, 1px, 1px, 1px);\n",
       "  height: 1px;\n",
       "  margin: -1px;\n",
       "  overflow: hidden;\n",
       "  padding: 0;\n",
       "  position: absolute;\n",
       "  width: 1px;\n",
       "}\n",
       "\n",
       "#sk-container-id-1 div.sk-dashed-wrapped {\n",
       "  border: 1px dashed var(--sklearn-color-line);\n",
       "  margin: 0 0.4em 0.5em 0.4em;\n",
       "  box-sizing: border-box;\n",
       "  padding-bottom: 0.4em;\n",
       "  background-color: var(--sklearn-color-background);\n",
       "}\n",
       "\n",
       "#sk-container-id-1 div.sk-container {\n",
       "  /* jupyter's `normalize.less` sets `[hidden] { display: none; }`\n",
       "     but bootstrap.min.css set `[hidden] { display: none !important; }`\n",
       "     so we also need the `!important` here to be able to override the\n",
       "     default hidden behavior on the sphinx rendered scikit-learn.org.\n",
       "     See: https://github.com/scikit-learn/scikit-learn/issues/21755 */\n",
       "  display: inline-block !important;\n",
       "  position: relative;\n",
       "}\n",
       "\n",
       "#sk-container-id-1 div.sk-text-repr-fallback {\n",
       "  display: none;\n",
       "}\n",
       "\n",
       "div.sk-parallel-item,\n",
       "div.sk-serial,\n",
       "div.sk-item {\n",
       "  /* draw centered vertical line to link estimators */\n",
       "  background-image: linear-gradient(var(--sklearn-color-text-on-default-background), var(--sklearn-color-text-on-default-background));\n",
       "  background-size: 2px 100%;\n",
       "  background-repeat: no-repeat;\n",
       "  background-position: center center;\n",
       "}\n",
       "\n",
       "/* Parallel-specific style estimator block */\n",
       "\n",
       "#sk-container-id-1 div.sk-parallel-item::after {\n",
       "  content: \"\";\n",
       "  width: 100%;\n",
       "  border-bottom: 2px solid var(--sklearn-color-text-on-default-background);\n",
       "  flex-grow: 1;\n",
       "}\n",
       "\n",
       "#sk-container-id-1 div.sk-parallel {\n",
       "  display: flex;\n",
       "  align-items: stretch;\n",
       "  justify-content: center;\n",
       "  background-color: var(--sklearn-color-background);\n",
       "  position: relative;\n",
       "}\n",
       "\n",
       "#sk-container-id-1 div.sk-parallel-item {\n",
       "  display: flex;\n",
       "  flex-direction: column;\n",
       "}\n",
       "\n",
       "#sk-container-id-1 div.sk-parallel-item:first-child::after {\n",
       "  align-self: flex-end;\n",
       "  width: 50%;\n",
       "}\n",
       "\n",
       "#sk-container-id-1 div.sk-parallel-item:last-child::after {\n",
       "  align-self: flex-start;\n",
       "  width: 50%;\n",
       "}\n",
       "\n",
       "#sk-container-id-1 div.sk-parallel-item:only-child::after {\n",
       "  width: 0;\n",
       "}\n",
       "\n",
       "/* Serial-specific style estimator block */\n",
       "\n",
       "#sk-container-id-1 div.sk-serial {\n",
       "  display: flex;\n",
       "  flex-direction: column;\n",
       "  align-items: center;\n",
       "  background-color: var(--sklearn-color-background);\n",
       "  padding-right: 1em;\n",
       "  padding-left: 1em;\n",
       "}\n",
       "\n",
       "\n",
       "/* Toggleable style: style used for estimator/Pipeline/ColumnTransformer box that is\n",
       "clickable and can be expanded/collapsed.\n",
       "- Pipeline and ColumnTransformer use this feature and define the default style\n",
       "- Estimators will overwrite some part of the style using the `sk-estimator` class\n",
       "*/\n",
       "\n",
       "/* Pipeline and ColumnTransformer style (default) */\n",
       "\n",
       "#sk-container-id-1 div.sk-toggleable {\n",
       "  /* Default theme specific background. It is overwritten whether we have a\n",
       "  specific estimator or a Pipeline/ColumnTransformer */\n",
       "  background-color: var(--sklearn-color-background);\n",
       "}\n",
       "\n",
       "/* Toggleable label */\n",
       "#sk-container-id-1 label.sk-toggleable__label {\n",
       "  cursor: pointer;\n",
       "  display: block;\n",
       "  width: 100%;\n",
       "  margin-bottom: 0;\n",
       "  padding: 0.5em;\n",
       "  box-sizing: border-box;\n",
       "  text-align: center;\n",
       "}\n",
       "\n",
       "#sk-container-id-1 label.sk-toggleable__label-arrow:before {\n",
       "  /* Arrow on the left of the label */\n",
       "  content: \"▸\";\n",
       "  float: left;\n",
       "  margin-right: 0.25em;\n",
       "  color: var(--sklearn-color-icon);\n",
       "}\n",
       "\n",
       "#sk-container-id-1 label.sk-toggleable__label-arrow:hover:before {\n",
       "  color: var(--sklearn-color-text);\n",
       "}\n",
       "\n",
       "/* Toggleable content - dropdown */\n",
       "\n",
       "#sk-container-id-1 div.sk-toggleable__content {\n",
       "  max-height: 0;\n",
       "  max-width: 0;\n",
       "  overflow: hidden;\n",
       "  text-align: left;\n",
       "  /* unfitted */\n",
       "  background-color: var(--sklearn-color-unfitted-level-0);\n",
       "}\n",
       "\n",
       "#sk-container-id-1 div.sk-toggleable__content.fitted {\n",
       "  /* fitted */\n",
       "  background-color: var(--sklearn-color-fitted-level-0);\n",
       "}\n",
       "\n",
       "#sk-container-id-1 div.sk-toggleable__content pre {\n",
       "  margin: 0.2em;\n",
       "  border-radius: 0.25em;\n",
       "  color: var(--sklearn-color-text);\n",
       "  /* unfitted */\n",
       "  background-color: var(--sklearn-color-unfitted-level-0);\n",
       "}\n",
       "\n",
       "#sk-container-id-1 div.sk-toggleable__content.fitted pre {\n",
       "  /* unfitted */\n",
       "  background-color: var(--sklearn-color-fitted-level-0);\n",
       "}\n",
       "\n",
       "#sk-container-id-1 input.sk-toggleable__control:checked~div.sk-toggleable__content {\n",
       "  /* Expand drop-down */\n",
       "  max-height: 200px;\n",
       "  max-width: 100%;\n",
       "  overflow: auto;\n",
       "}\n",
       "\n",
       "#sk-container-id-1 input.sk-toggleable__control:checked~label.sk-toggleable__label-arrow:before {\n",
       "  content: \"▾\";\n",
       "}\n",
       "\n",
       "/* Pipeline/ColumnTransformer-specific style */\n",
       "\n",
       "#sk-container-id-1 div.sk-label input.sk-toggleable__control:checked~label.sk-toggleable__label {\n",
       "  color: var(--sklearn-color-text);\n",
       "  background-color: var(--sklearn-color-unfitted-level-2);\n",
       "}\n",
       "\n",
       "#sk-container-id-1 div.sk-label.fitted input.sk-toggleable__control:checked~label.sk-toggleable__label {\n",
       "  background-color: var(--sklearn-color-fitted-level-2);\n",
       "}\n",
       "\n",
       "/* Estimator-specific style */\n",
       "\n",
       "/* Colorize estimator box */\n",
       "#sk-container-id-1 div.sk-estimator input.sk-toggleable__control:checked~label.sk-toggleable__label {\n",
       "  /* unfitted */\n",
       "  background-color: var(--sklearn-color-unfitted-level-2);\n",
       "}\n",
       "\n",
       "#sk-container-id-1 div.sk-estimator.fitted input.sk-toggleable__control:checked~label.sk-toggleable__label {\n",
       "  /* fitted */\n",
       "  background-color: var(--sklearn-color-fitted-level-2);\n",
       "}\n",
       "\n",
       "#sk-container-id-1 div.sk-label label.sk-toggleable__label,\n",
       "#sk-container-id-1 div.sk-label label {\n",
       "  /* The background is the default theme color */\n",
       "  color: var(--sklearn-color-text-on-default-background);\n",
       "}\n",
       "\n",
       "/* On hover, darken the color of the background */\n",
       "#sk-container-id-1 div.sk-label:hover label.sk-toggleable__label {\n",
       "  color: var(--sklearn-color-text);\n",
       "  background-color: var(--sklearn-color-unfitted-level-2);\n",
       "}\n",
       "\n",
       "/* Label box, darken color on hover, fitted */\n",
       "#sk-container-id-1 div.sk-label.fitted:hover label.sk-toggleable__label.fitted {\n",
       "  color: var(--sklearn-color-text);\n",
       "  background-color: var(--sklearn-color-fitted-level-2);\n",
       "}\n",
       "\n",
       "/* Estimator label */\n",
       "\n",
       "#sk-container-id-1 div.sk-label label {\n",
       "  font-family: monospace;\n",
       "  font-weight: bold;\n",
       "  display: inline-block;\n",
       "  line-height: 1.2em;\n",
       "}\n",
       "\n",
       "#sk-container-id-1 div.sk-label-container {\n",
       "  text-align: center;\n",
       "}\n",
       "\n",
       "/* Estimator-specific */\n",
       "#sk-container-id-1 div.sk-estimator {\n",
       "  font-family: monospace;\n",
       "  border: 1px dotted var(--sklearn-color-border-box);\n",
       "  border-radius: 0.25em;\n",
       "  box-sizing: border-box;\n",
       "  margin-bottom: 0.5em;\n",
       "  /* unfitted */\n",
       "  background-color: var(--sklearn-color-unfitted-level-0);\n",
       "}\n",
       "\n",
       "#sk-container-id-1 div.sk-estimator.fitted {\n",
       "  /* fitted */\n",
       "  background-color: var(--sklearn-color-fitted-level-0);\n",
       "}\n",
       "\n",
       "/* on hover */\n",
       "#sk-container-id-1 div.sk-estimator:hover {\n",
       "  /* unfitted */\n",
       "  background-color: var(--sklearn-color-unfitted-level-2);\n",
       "}\n",
       "\n",
       "#sk-container-id-1 div.sk-estimator.fitted:hover {\n",
       "  /* fitted */\n",
       "  background-color: var(--sklearn-color-fitted-level-2);\n",
       "}\n",
       "\n",
       "/* Specification for estimator info (e.g. \"i\" and \"?\") */\n",
       "\n",
       "/* Common style for \"i\" and \"?\" */\n",
       "\n",
       ".sk-estimator-doc-link,\n",
       "a:link.sk-estimator-doc-link,\n",
       "a:visited.sk-estimator-doc-link {\n",
       "  float: right;\n",
       "  font-size: smaller;\n",
       "  line-height: 1em;\n",
       "  font-family: monospace;\n",
       "  background-color: var(--sklearn-color-background);\n",
       "  border-radius: 1em;\n",
       "  height: 1em;\n",
       "  width: 1em;\n",
       "  text-decoration: none !important;\n",
       "  margin-left: 1ex;\n",
       "  /* unfitted */\n",
       "  border: var(--sklearn-color-unfitted-level-1) 1pt solid;\n",
       "  color: var(--sklearn-color-unfitted-level-1);\n",
       "}\n",
       "\n",
       ".sk-estimator-doc-link.fitted,\n",
       "a:link.sk-estimator-doc-link.fitted,\n",
       "a:visited.sk-estimator-doc-link.fitted {\n",
       "  /* fitted */\n",
       "  border: var(--sklearn-color-fitted-level-1) 1pt solid;\n",
       "  color: var(--sklearn-color-fitted-level-1);\n",
       "}\n",
       "\n",
       "/* On hover */\n",
       "div.sk-estimator:hover .sk-estimator-doc-link:hover,\n",
       ".sk-estimator-doc-link:hover,\n",
       "div.sk-label-container:hover .sk-estimator-doc-link:hover,\n",
       ".sk-estimator-doc-link:hover {\n",
       "  /* unfitted */\n",
       "  background-color: var(--sklearn-color-unfitted-level-3);\n",
       "  color: var(--sklearn-color-background);\n",
       "  text-decoration: none;\n",
       "}\n",
       "\n",
       "div.sk-estimator.fitted:hover .sk-estimator-doc-link.fitted:hover,\n",
       ".sk-estimator-doc-link.fitted:hover,\n",
       "div.sk-label-container:hover .sk-estimator-doc-link.fitted:hover,\n",
       ".sk-estimator-doc-link.fitted:hover {\n",
       "  /* fitted */\n",
       "  background-color: var(--sklearn-color-fitted-level-3);\n",
       "  color: var(--sklearn-color-background);\n",
       "  text-decoration: none;\n",
       "}\n",
       "\n",
       "/* Span, style for the box shown on hovering the info icon */\n",
       ".sk-estimator-doc-link span {\n",
       "  display: none;\n",
       "  z-index: 9999;\n",
       "  position: relative;\n",
       "  font-weight: normal;\n",
       "  right: .2ex;\n",
       "  padding: .5ex;\n",
       "  margin: .5ex;\n",
       "  width: min-content;\n",
       "  min-width: 20ex;\n",
       "  max-width: 50ex;\n",
       "  color: var(--sklearn-color-text);\n",
       "  box-shadow: 2pt 2pt 4pt #999;\n",
       "  /* unfitted */\n",
       "  background: var(--sklearn-color-unfitted-level-0);\n",
       "  border: .5pt solid var(--sklearn-color-unfitted-level-3);\n",
       "}\n",
       "\n",
       ".sk-estimator-doc-link.fitted span {\n",
       "  /* fitted */\n",
       "  background: var(--sklearn-color-fitted-level-0);\n",
       "  border: var(--sklearn-color-fitted-level-3);\n",
       "}\n",
       "\n",
       ".sk-estimator-doc-link:hover span {\n",
       "  display: block;\n",
       "}\n",
       "\n",
       "/* \"?\"-specific style due to the `<a>` HTML tag */\n",
       "\n",
       "#sk-container-id-1 a.estimator_doc_link {\n",
       "  float: right;\n",
       "  font-size: 1rem;\n",
       "  line-height: 1em;\n",
       "  font-family: monospace;\n",
       "  background-color: var(--sklearn-color-background);\n",
       "  border-radius: 1rem;\n",
       "  height: 1rem;\n",
       "  width: 1rem;\n",
       "  text-decoration: none;\n",
       "  /* unfitted */\n",
       "  color: var(--sklearn-color-unfitted-level-1);\n",
       "  border: var(--sklearn-color-unfitted-level-1) 1pt solid;\n",
       "}\n",
       "\n",
       "#sk-container-id-1 a.estimator_doc_link.fitted {\n",
       "  /* fitted */\n",
       "  border: var(--sklearn-color-fitted-level-1) 1pt solid;\n",
       "  color: var(--sklearn-color-fitted-level-1);\n",
       "}\n",
       "\n",
       "/* On hover */\n",
       "#sk-container-id-1 a.estimator_doc_link:hover {\n",
       "  /* unfitted */\n",
       "  background-color: var(--sklearn-color-unfitted-level-3);\n",
       "  color: var(--sklearn-color-background);\n",
       "  text-decoration: none;\n",
       "}\n",
       "\n",
       "#sk-container-id-1 a.estimator_doc_link.fitted:hover {\n",
       "  /* fitted */\n",
       "  background-color: var(--sklearn-color-fitted-level-3);\n",
       "}\n",
       "</style><div id=\"sk-container-id-1\" class=\"sk-top-container\"><div class=\"sk-text-repr-fallback\"><pre>LinearRegression()</pre><b>In a Jupyter environment, please rerun this cell to show the HTML representation or trust the notebook. <br />On GitHub, the HTML representation is unable to render, please try loading this page with nbviewer.org.</b></div><div class=\"sk-container\" hidden><div class=\"sk-item\"><div class=\"sk-estimator fitted sk-toggleable\"><input class=\"sk-toggleable__control sk-hidden--visually\" id=\"sk-estimator-id-1\" type=\"checkbox\" checked><label for=\"sk-estimator-id-1\" class=\"sk-toggleable__label fitted sk-toggleable__label-arrow fitted\">&nbsp;&nbsp;LinearRegression<a class=\"sk-estimator-doc-link fitted\" rel=\"noreferrer\" target=\"_blank\" href=\"https://scikit-learn.org/1.5/modules/generated/sklearn.linear_model.LinearRegression.html\">?<span>Documentation for LinearRegression</span></a><span class=\"sk-estimator-doc-link fitted\">i<span>Fitted</span></span></label><div class=\"sk-toggleable__content fitted\"><pre>LinearRegression()</pre></div> </div></div></div></div>"
      ],
      "text/plain": [
       "LinearRegression()"
      ]
     },
     "execution_count": 106,
     "metadata": {},
     "output_type": "execute_result"
    }
   ],
   "source": [
    "model = LinearRegression()\n",
    "model.fit(X_train, y_train)"
   ]
  },
  {
   "cell_type": "code",
   "execution_count": 107,
   "id": "232b3bc1-0675-4adb-af8a-6828e0e1a776",
   "metadata": {},
   "outputs": [],
   "source": [
    "# Step 6: Predict & Evaluate"
   ]
  },
  {
   "cell_type": "code",
   "execution_count": 109,
   "id": "fbd34764-98cd-4c2f-8700-5525e52f9cb6",
   "metadata": {},
   "outputs": [
    {
     "name": "stderr",
     "output_type": "stream",
     "text": [
      "C:\\Users\\kiran.salve\\AppData\\Local\\Programs\\Python\\Python312\\Lib\\site-packages\\sklearn\\metrics\\_regression.py:492: FutureWarning: 'squared' is deprecated in version 1.4 and will be removed in 1.6. To calculate the root mean squared error, use the function'root_mean_squared_error'.\n",
      "  warnings.warn(\n"
     ]
    }
   ],
   "source": [
    "y_pred = model.predict(X_test)\n",
    "rmse = mean_squared_error(y_test, y_pred, squared=False)\n",
    "r2 = r2_score(y_test, y_pred)"
   ]
  },
  {
   "cell_type": "code",
   "execution_count": 111,
   "id": "8092f0ca-f4fb-46e1-9099-c46ffd055ada",
   "metadata": {},
   "outputs": [
    {
     "name": "stdout",
     "output_type": "stream",
     "text": [
      "\n",
      "RMSE 1.78\n"
     ]
    }
   ],
   "source": [
    "print(\"\\nRMSE\", round(rmse, 2))"
   ]
  },
  {
   "cell_type": "code",
   "execution_count": 115,
   "id": "516d5d0c-a1da-4064-b180-f16c33b3362c",
   "metadata": {},
   "outputs": [
    {
     "name": "stdout",
     "output_type": "stream",
     "text": [
      "R2 Score 0.9\n"
     ]
    }
   ],
   "source": [
    "print(\"R2 Score\", round(r2,2))"
   ]
  },
  {
   "cell_type": "code",
   "execution_count": 116,
   "id": "e8ffdee6-191b-4044-b67a-5846d044d875",
   "metadata": {},
   "outputs": [],
   "source": [
    "# Step 7: Predict on New Input"
   ]
  },
  {
   "cell_type": "code",
   "execution_count": 117,
   "id": "6a3275e3-85bc-4ecc-9a4b-750485240ccf",
   "metadata": {},
   "outputs": [],
   "source": [
    "new_spend = [[200, 20, 15]]"
   ]
  },
  {
   "cell_type": "code",
   "execution_count": 118,
   "id": "0637829d-72fe-42b2-9701-5bb036328341",
   "metadata": {},
   "outputs": [
    {
     "name": "stderr",
     "output_type": "stream",
     "text": [
      "C:\\Users\\kiran.salve\\AppData\\Local\\Programs\\Python\\Python312\\Lib\\site-packages\\sklearn\\base.py:493: UserWarning: X does not have valid feature names, but LinearRegression was fitted with feature names\n",
      "  warnings.warn(\n"
     ]
    }
   ],
   "source": [
    "predicted_sales = model.predict(new_spend)"
   ]
  },
  {
   "cell_type": "code",
   "execution_count": 119,
   "id": "55f33ce4-c106-460b-bf6f-7edb15e6d693",
   "metadata": {},
   "outputs": [
    {
     "name": "stdout",
     "output_type": "stream",
     "text": [
      "\n",
      "Predicted Sales for TV=200, Radio=20, Newspaper=15: 15.76\n"
     ]
    }
   ],
   "source": [
    "print(f\"\\nPredicted Sales for TV=200, Radio=20, Newspaper=15: {round(predicted_sales[0], 2)}\")"
   ]
  },
  {
   "cell_type": "code",
   "execution_count": 121,
   "id": "51c8f94e-bb81-4038-9f48-c0322b971bcb",
   "metadata": {},
   "outputs": [
    {
     "data": {
      "image/png": "[encoded data removed]",
      "text/plain": [
       "<Figure size 640x480 with 1 Axes>"
      ]
     },
     "metadata": {},
     "output_type": "display_data"
    }
   ],
   "source": [
    "plt.scatter(y_test, y_pred, color='purple')\n",
    "plt.xlabel(\"Actual Sales\")\n",
    "plt.ylabel(\"Predicted Sales\")\n",
    "plt.title(\"Actual vs Predicted Sales\")\n",
    "plt.plot([y_test.min(), y_test.max()], [y_test.min(), y_test.max()], 'r--')  # Diagonal reference line\n",
    "plt.show()"
   ]
  },
  {
   "cell_type": "code",
   "execution_count": 123,
   "id": "f652bfb3-86a1-4da4-9417-ca58a2e7315f",
   "metadata": {},
   "outputs": [
    {
     "data": {
      "image/png": "[encoded data removed]",
      "text/plain": [
       "<Figure size 640x480 with 1 Axes>"
      ]
     },
     "metadata": {},
     "output_type": "display_data"
    }
   ],
   "source": [
    "plt.plot(y_test.values, label='Actual', marker='o')\n",
    "plt.plot(y_pred, label='Predicted', marker='x')\n",
    "plt.title(\"Actual vs Predicted Sales (by index)\")\n",
    "plt.xlabel(\"Sample Index\")\n",
    "plt.ylabel(\"Sales\")\n",
    "plt.legend()\n",
    "plt.show()"
   ]
  },
  {
   "cell_type": "code",
   "execution_count": 124,
   "id": "eaf7a0f0-7e33-4e3f-85b6-df5f29393867",
   "metadata": {},
   "outputs": [
    {
     "data": {
      "image/png": "[encoded data removed]",
      "text/plain": [
       "<Figure size 640x480 with 1 Axes>"
      ]
     },
     "metadata": {},
     "output_type": "display_data"
    }
   ],
   "source": [
    "residuals = y_test - y_pred\n",
    "plt.scatter(y_pred, residuals)\n",
    "plt.axhline(0, color='red', linestyle='--')\n",
    "plt.title(\"Residuals (Error) vs Predicted Sales\")\n",
    "plt.xlabel(\"Predicted Sales\")\n",
    "plt.ylabel(\"Residuals (Actual - Predicted)\")\n",
    "plt.show()\n"
   ]
  },
  {
   "cell_type": "code",
   "execution_count": 125,
   "id": "feb0c7b4-c737-44d0-a8ed-3148f804cd4f",
   "metadata": {},
   "outputs": [],
   "source": [
    "# Step 8: Save Actual vs Predicted to CSV"
   ]
  },
  {
   "cell_type": "code",
   "execution_count": 127,
   "id": "1e3460db-133b-4018-92e1-ca688070c91f",
   "metadata": {},
   "outputs": [
    {
     "name": "stdout",
     "output_type": "stream",
     "text": [
      "File saved: advertising_predictions.csv\n"
     ]
    }
   ],
   "source": [
    "# Step 8: Save Actual vs Predicted to CSV\n",
    "results_df = pd.DataFrame({\n",
    "    \"TV\": X_test['TV'].values,\n",
    "    \"Radio\": X_test['Radio'].values,\n",
    "    \"Newspaper\": X_test['Newspaper'].values,\n",
    "    \"Actual_Sales\": y_test.values,\n",
    "    \"Predicted_Sales\": y_pred\n",
    "})\n",
    "\n",
    "results_df.to_csv(\"advertising_predictions.csv\", index=False)\n",
    "print(\"File saved: advertising_predictions.csv\")\n"
   ]
  },
  {
   "cell_type": "code",
   "execution_count": 128,
   "id": "bc001fca-8530-4929-bf4f-10f6b45fec34",
   "metadata": {},
   "outputs": [
    {
     "name": "stdout",
     "output_type": "stream",
     "text": [
      "Collecting streamlit\n",
      "  Downloading streamlit-1.48.0-py3-none-any.whl.metadata (9.5 kB)\n",
      "Collecting altair!=5.4.0,!=5.4.1,<6,>=4.0 (from streamlit)\n",
      "  Using cached altair-5.5.0-py3-none-any.whl.metadata (11 kB)\n",
      "Requirement already satisfied: blinker<2,>=1.5.0 in c:\\users\\kiran.salve\\appdata\\local\\programs\\python\\python312\\lib\\site-packages (from streamlit) (1.9.0)\n",
      "Collecting cachetools<7,>=4.0 (from streamlit)\n",
      "  Downloading cachetools-6.1.0-py3-none-any.whl.metadata (5.4 kB)\n",
      "Requirement already satisfied: click<9,>=7.0 in c:\\users\\kiran.salve\\appdata\\local\\programs\\python\\python312\\lib\\site-packages (from streamlit) (8.1.8)\n",
      "Requirement already satisfied: numpy<3,>=1.23 in c:\\users\\kiran.salve\\appdata\\local\\programs\\python\\python312\\lib\\site-packages (from streamlit) (1.26.4)\n",
      "Requirement already satisfied: packaging<26,>=20 in c:\\users\\kiran.salve\\appdata\\roaming\\python\\python312\\site-packages (from streamlit) (25.0)\n",
      "Requirement already satisfied: pandas<3,>=1.4.0 in c:\\users\\kiran.salve\\appdata\\local\\programs\\python\\python312\\lib\\site-packages (from streamlit) (2.2.2)\n",
      "Requirement already satisfied: pillow<12,>=7.1.0 in c:\\users\\kiran.salve\\appdata\\local\\programs\\python\\python312\\lib\\site-packages (from streamlit) (10.3.0)\n",
      "Requirement already satisfied: protobuf<7,>=3.20 in c:\\users\\kiran.salve\\appdata\\local\\programs\\python\\python312\\lib\\site-packages (from streamlit) (5.29.1)\n",
      "Collecting pyarrow>=7.0 (from streamlit)\n",
      "  Downloading pyarrow-21.0.0-cp312-cp312-win_amd64.whl.metadata (3.4 kB)\n",
      "Requirement already satisfied: requests<3,>=2.27 in c:\\users\\kiran.salve\\appdata\\local\\programs\\python\\python312\\lib\\site-packages (from streamlit) (2.32.3)\n",
      "Collecting tenacity<10,>=8.1.0 (from streamlit)\n",
      "  Downloading tenacity-9.1.2-py3-none-any.whl.metadata (1.2 kB)\n",
      "Collecting toml<2,>=0.10.1 (from streamlit)\n",
      "  Using cached toml-0.10.2-py2.py3-none-any.whl.metadata (7.1 kB)\n",
      "Requirement already satisfied: typing-extensions<5,>=4.4.0 in c:\\users\\kiran.salve\\appdata\\local\\programs\\python\\python312\\lib\\site-packages (from streamlit) (4.12.2)\n",
      "Collecting watchdog<7,>=2.1.5 (from streamlit)\n",
      "  Using cached watchdog-6.0.0-py3-none-win_amd64.whl.metadata (44 kB)\n",
      "Collecting gitpython!=3.1.19,<4,>=3.0.7 (from streamlit)\n",
      "  Downloading gitpython-3.1.45-py3-none-any.whl.metadata (13 kB)\n",
      "Collecting pydeck<1,>=0.8.0b4 (from streamlit)\n",
      "  Using cached pydeck-0.9.1-py2.py3-none-any.whl.metadata (4.1 kB)\n",
      "Requirement already satisfied: tornado!=6.5.0,<7,>=6.0.3 in c:\\users\\kiran.salve\\appdata\\roaming\\python\\python312\\site-packages (from streamlit) (6.5.1)\n",
      "Requirement already satisfied: jinja2 in c:\\users\\kiran.salve\\appdata\\local\\programs\\python\\python312\\lib\\site-packages (from altair!=5.4.0,!=5.4.1,<6,>=4.0->streamlit) (3.1.4)\n",
      "Requirement already satisfied: jsonschema>=3.0 in c:\\users\\kiran.salve\\appdata\\local\\programs\\python\\python312\\lib\\site-packages (from altair!=5.4.0,!=5.4.1,<6,>=4.0->streamlit) (4.22.0)\n",
      "Requirement already satisfied: narwhals>=1.14.2 in c:\\users\\kiran.salve\\appdata\\local\\programs\\python\\python312\\lib\\site-packages (from altair!=5.4.0,!=5.4.1,<6,>=4.0->streamlit) (1.27.1)\n",
      "Requirement already satisfied: colorama in c:\\users\\kiran.salve\\appdata\\roaming\\python\\python312\\site-packages (from click<9,>=7.0->streamlit) (0.4.6)\n",
      "Collecting gitdb<5,>=4.0.1 (from gitpython!=3.1.19,<4,>=3.0.7->streamlit)\n",
      "  Using cached gitdb-4.0.12-py3-none-any.whl.metadata (1.2 kB)\n",
      "Collecting smmap<6,>=3.0.1 (from gitdb<5,>=4.0.1->gitpython!=3.1.19,<4,>=3.0.7->streamlit)\n",
      "  Using cached smmap-5.0.2-py3-none-any.whl.metadata (4.3 kB)\n",
      "Requirement already satisfied: python-dateutil>=2.8.2 in c:\\users\\kiran.salve\\appdata\\roaming\\python\\python312\\site-packages (from pandas<3,>=1.4.0->streamlit) (2.9.0.post0)\n",
      "Requirement already satisfied: pytz>=2020.1 in c:\\users\\kiran.salve\\appdata\\local\\programs\\python\\python312\\lib\\site-packages (from pandas<3,>=1.4.0->streamlit) (2024.1)\n",
      "Requirement already satisfied: tzdata>=2022.7 in c:\\users\\kiran.salve\\appdata\\local\\programs\\python\\python312\\lib\\site-packages (from pandas<3,>=1.4.0->streamlit) (2024.1)\n",
      "Requirement already satisfied: charset-normalizer<4,>=2 in c:\\users\\kiran.salve\\appdata\\local\\programs\\python\\python312\\lib\\site-packages (from requests<3,>=2.27->streamlit) (3.3.2)\n",
      "Requirement already satisfied: idna<4,>=2.5 in c:\\users\\kiran.salve\\appdata\\local\\programs\\python\\python312\\lib\\site-packages (from requests<3,>=2.27->streamlit) (3.7)\n",
      "Requirement already satisfied: urllib3<3,>=1.21.1 in c:\\users\\kiran.salve\\appdata\\local\\programs\\python\\python312\\lib\\site-packages (from requests<3,>=2.27->streamlit) (2.2.1)\n",
      "Requirement already satisfied: certifi>=2017.4.17 in c:\\users\\kiran.salve\\appdata\\local\\programs\\python\\python312\\lib\\site-packages (from requests<3,>=2.27->streamlit) (2024.6.2)\n",
      "Requirement already satisfied: MarkupSafe>=2.0 in c:\\users\\kiran.salve\\appdata\\local\\programs\\python\\python312\\lib\\site-packages (from jinja2->altair!=5.4.0,!=5.4.1,<6,>=4.0->streamlit) (2.1.5)\n",
      "Requirement already satisfied: attrs>=22.2.0 in c:\\users\\kiran.salve\\appdata\\local\\programs\\python\\python312\\lib\\site-packages (from jsonschema>=3.0->altair!=5.4.0,!=5.4.1,<6,>=4.0->streamlit) (23.2.0)\n",
      "Requirement already satisfied: jsonschema-specifications>=2023.03.6 in c:\\users\\kiran.salve\\appdata\\local\\programs\\python\\python312\\lib\\site-packages (from jsonschema>=3.0->altair!=5.4.0,!=5.4.1,<6,>=4.0->streamlit) (2023.12.1)\n",
      "Requirement already satisfied: referencing>=0.28.4 in c:\\users\\kiran.salve\\appdata\\local\\programs\\python\\python312\\lib\\site-packages (from jsonschema>=3.0->altair!=5.4.0,!=5.4.1,<6,>=4.0->streamlit) (0.35.1)\n",
      "Requirement already satisfied: rpds-py>=0.7.1 in c:\\users\\kiran.salve\\appdata\\local\\programs\\python\\python312\\lib\\site-packages (from jsonschema>=3.0->altair!=5.4.0,!=5.4.1,<6,>=4.0->streamlit) (0.18.1)\n",
      "Requirement already satisfied: six>=1.5 in c:\\users\\kiran.salve\\appdata\\roaming\\python\\python312\\site-packages (from python-dateutil>=2.8.2->pandas<3,>=1.4.0->streamlit) (1.17.0)\n",
      "Downloading streamlit-1.48.0-py3-none-any.whl (9.9 MB)\n",
      "   ---------------------------------------- 0.0/9.9 MB ? eta -:--:--\n",
      "   ------ --------------------------------- 1.6/9.9 MB 8.4 MB/s eta 0:00:01\n",
      "   ------------- -------------------------- 3.4/9.9 MB 8.4 MB/s eta 0:00:01\n",
      "   ------------------- -------------------- 4.7/9.9 MB 8.4 MB/s eta 0:00:01\n",
      "   --------------------------- ------------ 6.8/9.9 MB 8.4 MB/s eta 0:00:01\n",
      "   ---------------------------------- ----- 8.7/9.9 MB 8.4 MB/s eta 0:00:01\n",
      "   ---------------------------------------- 9.9/9.9 MB 8.0 MB/s eta 0:00:00\n",
      "Using cached altair-5.5.0-py3-none-any.whl (731 kB)\n",
      "Downloading cachetools-6.1.0-py3-none-any.whl (11 kB)\n",
      "Downloading gitpython-3.1.45-py3-none-any.whl (208 kB)\n",
      "Using cached gitdb-4.0.12-py3-none-any.whl (62 kB)\n",
      "Using cached pydeck-0.9.1-py2.py3-none-any.whl (6.9 MB)\n",
      "Using cached smmap-5.0.2-py3-none-any.whl (24 kB)\n",
      "Downloading tenacity-9.1.2-py3-none-any.whl (28 kB)\n",
      "Using cached toml-0.10.2-py2.py3-none-any.whl (16 kB)\n",
      "Using cached watchdog-6.0.0-py3-none-win_amd64.whl (79 kB)\n",
      "Downloading pyarrow-21.0.0-cp312-cp312-win_amd64.whl (26.2 MB)\n",
      "   ---------------------------------------- 0.0/26.2 MB ? eta -:--:--\n",
      "   -- ------------------------------------- 1.6/26.2 MB 8.3 MB/s eta 0:00:03\n",
      "   ----- ---------------------------------- 3.4/26.2 MB 8.0 MB/s eta 0:00:03\n",
      "   -------- ------------------------------- 5.2/26.2 MB 8.2 MB/s eta 0:00:03\n",
      "   ---------- ----------------------------- 6.6/26.2 MB 7.6 MB/s eta 0:00:03\n",
      "   ------------ --------------------------- 8.4/26.2 MB 7.8 MB/s eta 0:00:03\n",
      "   --------------- ------------------------ 10.2/26.2 MB 8.0 MB/s eta 0:00:03\n",
      "   ------------------ --------------------- 12.1/26.2 MB 7.9 MB/s eta 0:00:02\n",
      "   -------------------- ------------------- 13.1/26.2 MB 7.6 MB/s eta 0:00:02\n",
      "   ---------------------- ----------------- 14.9/26.2 MB 7.6 MB/s eta 0:00:02\n",
      "   ------------------------- -------------- 16.8/26.2 MB 7.8 MB/s eta 0:00:02\n",
      "   ---------------------------- ----------- 18.6/26.2 MB 7.8 MB/s eta 0:00:01\n",
      "   ------------------------------- -------- 20.4/26.2 MB 7.9 MB/s eta 0:00:01\n",
      "   ---------------------------------- ----- 22.3/26.2 MB 7.9 MB/s eta 0:00:01\n",
      "   ------------------------------------ --- 23.9/26.2 MB 7.9 MB/s eta 0:00:01\n",
      "   ---------------------------------------  25.7/26.2 MB 7.9 MB/s eta 0:00:01\n",
      "   ---------------------------------------  26.0/26.2 MB 7.9 MB/s eta 0:00:01\n",
      "   ---------------------------------------- 26.2/26.2 MB 7.5 MB/s eta 0:00:00\n",
      "Installing collected packages: watchdog, toml, tenacity, smmap, pyarrow, cachetools, pydeck, gitdb, gitpython, altair, streamlit\n",
      "\n",
      "   ----------------------------------------  0/11 [watchdog]\n",
      "   --- ------------------------------------  1/11 [toml]\n",
      "   ------- --------------------------------  2/11 [tenacity]\n",
      "   ---------- -----------------------------  3/11 [smmap]\n",
      "   -------------- -------------------------  4/11 [pyarrow]\n",
      "   -------------- -------------------------  4/11 [pyarrow]\n",
      "   -------------- -------------------------  4/11 [pyarrow]\n",
      "   -------------- -------------------------  4/11 [pyarrow]\n",
      "   -------------- -------------------------  4/11 [pyarrow]\n",
      "   -------------- -------------------------  4/11 [pyarrow]\n",
      "   -------------- -------------------------  4/11 [pyarrow]\n",
      "   -------------- -------------------------  4/11 [pyarrow]\n",
      "   -------------- -------------------------  4/11 [pyarrow]\n",
      "   -------------- -------------------------  4/11 [pyarrow]\n",
      "   -------------- -------------------------  4/11 [pyarrow]\n",
      "   -------------- -------------------------  4/11 [pyarrow]\n",
      "   -------------- -------------------------  4/11 [pyarrow]\n",
      "   -------------- -------------------------  4/11 [pyarrow]\n",
      "   -------------- -------------------------  4/11 [pyarrow]\n",
      "   -------------- -------------------------  4/11 [pyarrow]\n",
      "   -------------- -------------------------  4/11 [pyarrow]\n",
      "   -------------- -------------------------  4/11 [pyarrow]\n",
      "   -------------- -------------------------  4/11 [pyarrow]\n",
      "   -------------- -------------------------  4/11 [pyarrow]\n",
      "   -------------- -------------------------  4/11 [pyarrow]\n",
      "   -------------- -------------------------  4/11 [pyarrow]\n",
      "   -------------- -------------------------  4/11 [pyarrow]\n",
      "   -------------- -------------------------  4/11 [pyarrow]\n",
      "   -------------- -------------------------  4/11 [pyarrow]\n",
      "   -------------- -------------------------  4/11 [pyarrow]\n",
      "   -------------- -------------------------  4/11 [pyarrow]\n",
      "   -------------- -------------------------  4/11 [pyarrow]\n",
      "   -------------- -------------------------  4/11 [pyarrow]\n",
      "   -------------- -------------------------  4/11 [pyarrow]\n",
      "   -------------- -------------------------  4/11 [pyarrow]\n",
      "   -------------- -------------------------  4/11 [pyarrow]\n",
      "   -------------- -------------------------  4/11 [pyarrow]\n",
      "   -------------- -------------------------  4/11 [pyarrow]\n",
      "   -------------- -------------------------  4/11 [pyarrow]\n",
      "   -------------- -------------------------  4/11 [pyarrow]\n",
      "   -------------- -------------------------  4/11 [pyarrow]\n",
      "   -------------- -------------------------  4/11 [pyarrow]\n",
      "   -------------- -------------------------  4/11 [pyarrow]\n",
      "   -------------- -------------------------  4/11 [pyarrow]\n",
      "   -------------- -------------------------  4/11 [pyarrow]\n",
      "   -------------- -------------------------  4/11 [pyarrow]\n",
      "   -------------- -------------------------  4/11 [pyarrow]\n",
      "   -------------- -------------------------  4/11 [pyarrow]\n",
      "   -------------- -------------------------  4/11 [pyarrow]\n",
      "   -------------- -------------------------  4/11 [pyarrow]\n",
      "   -------------- -------------------------  4/11 [pyarrow]\n",
      "   -------------- -------------------------  4/11 [pyarrow]\n",
      "   -------------- -------------------------  4/11 [pyarrow]\n",
      "   -------------- -------------------------  4/11 [pyarrow]\n",
      "   -------------- -------------------------  4/11 [pyarrow]\n",
      "   -------------- -------------------------  4/11 [pyarrow]\n",
      "   -------------- -------------------------  4/11 [pyarrow]\n",
      "   -------------- -------------------------  4/11 [pyarrow]\n",
      "   -------------- -------------------------  4/11 [pyarrow]\n",
      "   -------------- -------------------------  4/11 [pyarrow]\n",
      "   -------------- -------------------------  4/11 [pyarrow]\n",
      "   -------------- -------------------------  4/11 [pyarrow]\n",
      "   -------------- -------------------------  4/11 [pyarrow]\n",
      "   -------------- -------------------------  4/11 [pyarrow]\n",
      "   -------------- -------------------------  4/11 [pyarrow]\n",
      "   -------------- -------------------------  4/11 [pyarrow]\n",
      "   -------------- -------------------------  4/11 [pyarrow]\n",
      "   -------------- -------------------------  4/11 [pyarrow]\n",
      "   -------------- -------------------------  4/11 [pyarrow]\n",
      "   -------------- -------------------------  4/11 [pyarrow]\n",
      "   -------------- -------------------------  4/11 [pyarrow]\n",
      "   -------------- -------------------------  4/11 [pyarrow]\n",
      "   -------------- -------------------------  4/11 [pyarrow]\n",
      "   -------------- -------------------------  4/11 [pyarrow]\n",
      "   -------------- -------------------------  4/11 [pyarrow]\n",
      "   -------------- -------------------------  4/11 [pyarrow]\n",
      "   -------------- -------------------------  4/11 [pyarrow]\n",
      "   -------------- -------------------------  4/11 [pyarrow]\n",
      "   ------------------ ---------------------  5/11 [cachetools]\n",
      "   ------------------ ---------------------  5/11 [cachetools]\n",
      "   --------------------- ------------------  6/11 [pydeck]\n",
      "   --------------------- ------------------  6/11 [pydeck]\n",
      "   --------------------- ------------------  6/11 [pydeck]\n",
      "   --------------------- ------------------  6/11 [pydeck]\n",
      "   --------------------- ------------------  6/11 [pydeck]\n",
      "   --------------------- ------------------  6/11 [pydeck]\n",
      "   --------------------- ------------------  6/11 [pydeck]\n",
      "   --------------------- ------------------  6/11 [pydeck]\n",
      "   --------------------- ------------------  6/11 [pydeck]\n",
      "   --------------------- ------------------  6/11 [pydeck]\n",
      "   --------------------- ------------------  6/11 [pydeck]\n",
      "   --------------------- ------------------  6/11 [pydeck]\n",
      "   --------------------- ------------------  6/11 [pydeck]\n",
      "   --------------------- ------------------  6/11 [pydeck]\n",
      "   --------------------- ------------------  6/11 [pydeck]\n",
      "   --------------------- ------------------  6/11 [pydeck]\n",
      "   --------------------- ------------------  6/11 [pydeck]\n",
      "   --------------------- ------------------  6/11 [pydeck]\n",
      "   --------------------- ------------------  6/11 [pydeck]\n",
      "   --------------------- ------------------  6/11 [pydeck]\n",
      "   --------------------- ------------------  6/11 [pydeck]\n",
      "   --------------------- ------------------  6/11 [pydeck]\n",
      "   --------------------- ------------------  6/11 [pydeck]\n",
      "   --------------------- ------------------  6/11 [pydeck]\n",
      "   --------------------- ------------------  6/11 [pydeck]\n",
      "   --------------------- ------------------  6/11 [pydeck]\n",
      "   --------------------- ------------------  6/11 [pydeck]\n",
      "   --------------------- ------------------  6/11 [pydeck]\n",
      "   --------------------- ------------------  6/11 [pydeck]\n",
      "   --------------------- ------------------  6/11 [pydeck]\n",
      "   --------------------- ------------------  6/11 [pydeck]\n",
      "   --------------------- ------------------  6/11 [pydeck]\n",
      "   --------------------- ------------------  6/11 [pydeck]\n",
      "   --------------------- ------------------  6/11 [pydeck]\n",
      "   --------------------- ------------------  6/11 [pydeck]\n",
      "   --------------------- ------------------  6/11 [pydeck]\n",
      "   --------------------- ------------------  6/11 [pydeck]\n",
      "   --------------------- ------------------  6/11 [pydeck]\n",
      "   --------------------- ------------------  6/11 [pydeck]\n",
      "   --------------------- ------------------  6/11 [pydeck]\n",
      "   ------------------------- --------------  7/11 [gitdb]\n",
      "   ------------------------- --------------  7/11 [gitdb]\n",
      "   ----------------------------- ----------  8/11 [gitpython]\n",
      "   ----------------------------- ----------  8/11 [gitpython]\n",
      "   ----------------------------- ----------  8/11 [gitpython]\n",
      "   ----------------------------- ----------  8/11 [gitpython]\n",
      "   ----------------------------- ----------  8/11 [gitpython]\n",
      "   -------------------------------- -------  9/11 [altair]\n",
      "   -------------------------------- -------  9/11 [altair]\n",
      "   -------------------------------- -------  9/11 [altair]\n",
      "   -------------------------------- -------  9/11 [altair]\n",
      "   -------------------------------- -------  9/11 [altair]\n",
      "   -------------------------------- -------  9/11 [altair]\n",
      "   -------------------------------- -------  9/11 [altair]\n",
      "   ------------------------------------ --- 10/11 [streamlit]\n",
      "   ------------------------------------ --- 10/11 [streamlit]\n",
      "   ------------------------------------ --- 10/11 [streamlit]\n",
      "   ------------------------------------ --- 10/11 [streamlit]\n",
      "   ------------------------------------ --- 10/11 [streamlit]\n",
      "   ------------------------------------ --- 10/11 [streamlit]\n",
      "   ------------------------------------ --- 10/11 [streamlit]\n",
      "   ------------------------------------ --- 10/11 [streamlit]\n",
      "   ------------------------------------ --- 10/11 [streamlit]\n",
      "   ------------------------------------ --- 10/11 [streamlit]\n",
      "   ------------------------------------ --- 10/11 [streamlit]\n",
      "   ------------------------------------ --- 10/11 [streamlit]\n",
      "   ------------------------------------ --- 10/11 [streamlit]\n",
      "   ------------------------------------ --- 10/11 [streamlit]\n",
      "   ------------------------------------ --- 10/11 [streamlit]\n",
      "   ------------------------------------ --- 10/11 [streamlit]\n",
      "   ------------------------------------ --- 10/11 [streamlit]\n",
      "   ------------------------------------ --- 10/11 [streamlit]\n",
      "   ------------------------------------ --- 10/11 [streamlit]\n",
      "   ------------------------------------ --- 10/11 [streamlit]\n",
      "   ------------------------------------ --- 10/11 [streamlit]\n",
      "   ------------------------------------ --- 10/11 [streamlit]\n",
      "   ------------------------------------ --- 10/11 [streamlit]\n",
      "   ------------------------------------ --- 10/11 [streamlit]\n",
      "   ------------------------------------ --- 10/11 [streamlit]\n",
      "   ------------------------------------ --- 10/11 [streamlit]\n",
      "   ------------------------------------ --- 10/11 [streamlit]\n",
      "   ------------------------------------ --- 10/11 [streamlit]\n",
      "   ------------------------------------ --- 10/11 [streamlit]\n",
      "   ------------------------------------ --- 10/11 [streamlit]\n",
      "   ------------------------------------ --- 10/11 [streamlit]\n",
      "   ------------------------------------ --- 10/11 [streamlit]\n",
      "   ------------------------------------ --- 10/11 [streamlit]\n",
      "   ------------------------------------ --- 10/11 [streamlit]\n",
      "   ------------------------------------ --- 10/11 [streamlit]\n",
      "   ------------------------------------ --- 10/11 [streamlit]\n",
      "   ------------------------------------ --- 10/11 [streamlit]\n",
      "   ------------------------------------ --- 10/11 [streamlit]\n",
      "   ------------------------------------ --- 10/11 [streamlit]\n",
      "   ------------------------------------ --- 10/11 [streamlit]\n",
      "   ------------------------------------ --- 10/11 [streamlit]\n",
      "   ------------------------------------ --- 10/11 [streamlit]\n",
      "   ------------------------------------ --- 10/11 [streamlit]\n",
      "   ------------------------------------ --- 10/11 [streamlit]\n",
      "   ------------------------------------ --- 10/11 [streamlit]\n",
      "   ------------------------------------ --- 10/11 [streamlit]\n",
      "   ------------------------------------ --- 10/11 [streamlit]\n",
      "   ------------------------------------ --- 10/11 [streamlit]\n",
      "   ------------------------------------ --- 10/11 [streamlit]\n",
      "   ------------------------------------ --- 10/11 [streamlit]\n",
      "   ------------------------------------ --- 10/11 [streamlit]\n",
      "   ------------------------------------ --- 10/11 [streamlit]\n",
      "   ------------------------------------ --- 10/11 [streamlit]\n",
      "   ------------------------------------ --- 10/11 [streamlit]\n",
      "   ------------------------------------ --- 10/11 [streamlit]\n",
      "   ------------------------------------ --- 10/11 [streamlit]\n",
      "   ------------------------------------ --- 10/11 [streamlit]\n",
      "   ------------------------------------ --- 10/11 [streamlit]\n",
      "   ------------------------------------ --- 10/11 [streamlit]\n",
      "   ------------------------------------ --- 10/11 [streamlit]\n",
      "   ------------------------------------ --- 10/11 [streamlit]\n",
      "   ------------------------------------ --- 10/11 [streamlit]\n",
      "   ------------------------------------ --- 10/11 [streamlit]\n",
      "   ------------------------------------ --- 10/11 [streamlit]\n",
      "   ------------------------------------ --- 10/11 [streamlit]\n",
      "   ------------------------------------ --- 10/11 [streamlit]\n",
      "   ------------------------------------ --- 10/11 [streamlit]\n",
      "   ------------------------------------ --- 10/11 [streamlit]\n",
      "   ------------------------------------ --- 10/11 [streamlit]\n",
      "   ------------------------------------ --- 10/11 [streamlit]\n",
      "   ------------------------------------ --- 10/11 [streamlit]\n",
      "   ------------------------------------ --- 10/11 [streamlit]\n",
      "   ------------------------------------ --- 10/11 [streamlit]\n",
      "   ------------------------------------ --- 10/11 [streamlit]\n",
      "   ------------------------------------ --- 10/11 [streamlit]\n",
      "   ------------------------------------ --- 10/11 [streamlit]\n",
      "   ------------------------------------ --- 10/11 [streamlit]\n",
      "   ------------------------------------ --- 10/11 [streamlit]\n",
      "   ------------------------------------ --- 10/11 [streamlit]\n",
      "   ------------------------------------ --- 10/11 [streamlit]\n",
      "   ------------------------------------ --- 10/11 [streamlit]\n",
      "   ------------------------------------ --- 10/11 [streamlit]\n",
      "   ------------------------------------ --- 10/11 [streamlit]\n",
      "   ------------------------------------ --- 10/11 [streamlit]\n",
      "   ------------------------------------ --- 10/11 [streamlit]\n",
      "   ------------------------------------ --- 10/11 [streamlit]\n",
      "   ------------------------------------ --- 10/11 [streamlit]\n",
      "   ------------------------------------ --- 10/11 [streamlit]\n",
      "   ------------------------------------ --- 10/11 [streamlit]\n",
      "   ------------------------------------ --- 10/11 [streamlit]\n",
      "   ------------------------------------ --- 10/11 [streamlit]\n",
      "   ------------------------------------ --- 10/11 [streamlit]\n",
      "   ------------------------------------ --- 10/11 [streamlit]\n",
      "   ------------------------------------ --- 10/11 [streamlit]\n",
      "   ------------------------------------ --- 10/11 [streamlit]\n",
      "   ------------------------------------ --- 10/11 [streamlit]\n",
      "   ------------------------------------ --- 10/11 [streamlit]\n",
      "   ------------------------------------ --- 10/11 [streamlit]\n",
      "   ------------------------------------ --- 10/11 [streamlit]\n",
      "   ---------------------------------------- 11/11 [streamlit]\n",
      "\n",
      "Successfully installed altair-5.5.0 cachetools-6.1.0 gitdb-4.0.12 gitpython-3.1.45 pyarrow-21.0.0 pydeck-0.9.1 smmap-5.0.2 streamlit-1.48.0 tenacity-9.1.2 toml-0.10.2 watchdog-6.0.0\n"
     ]
    },
    {
     "name": "stderr",
     "output_type": "stream",
     "text": [
      "\n",
      "[notice] A new release of pip is available: 25.1.1 -> 25.2\n",
      "[notice] To update, run: python.exe -m pip install --upgrade pip\n"
     ]
    }
   ],
   "source": [
    "!pip install streamlit"
   ]
  },
  {
   "cell_type": "code",
   "execution_count": null,
   "id": "7106d866-6921-4108-bda8-a1771e007796",
   "metadata": {},
   "outputs": [],
   "source": []
  }
 ],
 "metadata": {
  "kernelspec": {
   "display_name": "Python 3 (ipykernel)",
   "language": "python",
   "name": "python3"
  },
  "language_info": {
   "codemirror_mode": {
    "name": "ipython",
    "version": 3
   },
   "file_extension": ".py",
   "mimetype": "text/x-python",
   "name": "python",
   "nbconvert_exporter": "python",
   "pygments_lexer": "ipython3",
   "version": "3.12.4"
  }
 },
 "nbformat": 4,
 "nbformat_minor": 5
}
